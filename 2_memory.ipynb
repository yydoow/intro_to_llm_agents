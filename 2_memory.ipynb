{
 "cells": [
  {
   "cell_type": "code",
   "execution_count": 6,
   "metadata": {},
   "outputs": [],
   "source": [
    "import os\n",
    "import yaml\n",
    "\n",
    "# Load configuration\n",
    "config = yaml.safe_load(open(\"myconfig.yml\"))\n",
    "\n",
    "# Set up Azure OpenAI environment variables with the minimum necessary configuration\n",
    "os.environ[\"AZURE_OPENAI_API_KEY\"] = config[\"AZURE_OPENAI_API_KEY\"]\n",
    "os.environ[\"AZURE_OPENAI_DEPLOYMENT_NAME\"] = config[\"AZURE_OPENAI_DEPLOYMENT_NAME\"]\n",
    "os.environ[\"AZURE_OPENAI_ENDPOINT\"] = config[\"AZURE_OPENAI_ENDPOINT\"]\n",
    "os.environ[\"AZURE_OPENAI_EMBEDDING_DEPLOY\"] = config.get(\"AZURE_OPENAI_EMBEDDING_DEPLOY\")\n",
    "os.environ[\"AZURE_OPENAI_API_VERSION\"] = \"2023-05-15\"  # Using a stable API version that works with most Azure OpenAI deployments\n",
    "\n",
    "os.environ[\"TAVILY_API_KEY\"] = config[\"TAVILY_API_KEY\"]\n",
    "os.environ[\"LANGCHAIN_API_KEY\"] = config[\"LANGCHAIN_API_KEY\"]\n",
    "os.environ[\"LANGCHAIN_HUB_API_KEY\"] = config[\"LANGCHAIN_API_KEY\"]\n",
    "os.environ[\"LANGCHAIN_TRACING_V2\"] = str(config[\"LANGCHAIN_TRACING_V2\"]).lower()\n",
    "os.environ[\"LANGCHAIN_ENDPOINT\"] = config[\"LANGCHAIN_ENDPOINT\"]\n",
    "os.environ[\"LANGCHAIN_HUB_API_URL\"] = config[\"LANGCHAIN_HUB_API_URL\"]\n",
    "os.environ[\"LANGCHAIN_WANDB_TRACING\"] = str(config[\"LANGCHAIN_WANDB_TRACING\"]).lower()\n",
    "os.environ[\"WANDB_PROJECT\"] = str(config[\"WANDB_PROJECT\"])\n",
    "os.environ[\"USER_AGENT\"] = \"LangChain/1.0 (LLM Agent Memory Tutorial)\"\n"
   ]
  },
  {
   "cell_type": "markdown",
   "metadata": {},
   "source": [
    "# Memory\n",
    "\n",
    "![./images/Screenshot 2024-02-21 at 19.22.19.png](<./images/Screenshot 2024-02-21 at 19.22.19.png>)\n",
    "\n",
    "\n",
    "- **Sensory Memory:** This component of memory captures immediate sensory inputs, like what we see, hear, or feel. In the context of prompt engineering and AI models, a prompt serves as a transient input, similar to a momentary touch or sensation. It's the initial stimulus that triggers the model's processing.\n",
    "\n",
    "- **Short-Term Memory:** Short-term memory holds information temporarily, typically related to the ongoing task or conversation. In prompt engineering, this equates to retaining the recent chat history. This memory enables the agent to maintain context and coherence throughout the interaction, ensuring that responses align with the current dialogue.\n",
    "\n",
    "- **Long-Term Memory:** Long-term memory stores both factual knowledge and procedural instructions. In AI models, this is represented by the data used for training and fine-tuning. Additionally, long-term memory supports the operation of RAG frameworks, allowing agents to access and integrate learned information into their responses. It's like the comprehensive knowledge repository that agents draw upon to generate informed and relevant outputs."
   ]
  },
  {
   "cell_type": "markdown",
   "metadata": {},
   "source": [
    "### Adding long-term memory"
   ]
  },
  {
   "cell_type": "code",
   "execution_count": null,
   "metadata": {},
   "outputs": [],
   "source": [
    "from langchain.text_splitter import RecursiveCharacterTextSplitter\n",
    "from langchain_community.document_loaders import WebBaseLoader\n",
    "from langchain_community.vectorstores import FAISS\n",
    "from langchain_openai import AzureOpenAIEmbeddings"
   ]
  },
  {
   "cell_type": "code",
   "execution_count": null,
   "metadata": {},
   "outputs": [
    {
     "name": "stdout",
     "output_type": "stream",
     "text": [
      "[Document(metadata={'source': 'https://neurons-lab.com/', 'title': 'Neurons Lab | Home', 'description': \"We're an AI-exclusive consultancy delivering AI transformation services to guide enterprises into the new era of AI. +100 clients supported.\", 'language': 'en-US'}, page_content=\"\\n\\n\\n\\n\\n\\nNeurons Lab | Home\\n\\n\\n\\n\\n\\n\\n\\n\\n\\n\\n\\n\\n\\n\\n\\n\\n\\n\\n\\n\\n\\n\\n\\n\\n\\n\\n\\n\\n\\n\\n\\n\\n\\n\\n\\n\\n\\n \\n\\n\\n\\n\\n\\n\\n\\n\\n\\n\\n\\n\\n\\n\\n\\n\\n\\n\\n\\n\\n\\n\\n\\n\\n\\n\\n\\n\\n\\n            Services        \\n\\n            Services        \\n\\n\\n\\n\\n\\n\\n\\n\\n\\n\\n                    AI Transformation Program                \\n\\n\\n                    A complete service suite to guide you into a new era of AI                \\n\\n\\n\\n\\n\\n\\n\\n\\n\\n\\n\\n\\n\\n\\n\\n\\n        All services    \\n\\n        All services    \\n\\n\\n\\n\\n\\n\\n\\n        Executive AI Alignment    \\n\\n\\n            Align your leadership team on the AI transformation journey and create a clear, actionable roadmap for success.         \\n \\n\\n\\n        AI Strategy & Governance    \\n\\n\\n            Accelerate AI transformation while minimizing risks through a structured strategy and governance framework.        \\n \\n\\n\\n        Enterprise Data Foundation    \\n\\n\\n            Establish a robust data infrastructure designed to enable AI applications across your organization.        \\n \\n\\n\\n        Agentic AI Systems    \\n\\n\\n            Deploy next-generation AI capabilities with orchestrated agent networks.        \\n \\n\\n\\n        Rapid Proof of Concept    \\n\\n\\n            Quickly build, test, and iterate on a working Proof-of-Conept, leveraging latest GenAI tools and services.        \\n \\n\\n\\n        AI Training & Education    \\n\\n\\n            Empower your teams with hands-on training in custom-made or market-leading AI tools to increase productivity and unlock new opportunities.        \\n \\n\\n\\n        Cloud Cost Optimization    \\n\\n\\n            Reduce cloud expenses, enhance performance, and unlock substantial AWS credits.        \\n \\n\\n\\n\\n\\n         Case Studies    \\n\\n         Case Studies    \\n\\n\\n\\n         About Us    \\n\\n         About Us    \\n\\n\\n\\n         Careers    \\n\\n         Careers    \\n\\n\\n\\n         Articles    \\n\\n         Articles    \\n\\n\\n\\n\\n\\n\\n\\n\\n\\n\\n\\n\\n\\n\\n\\n\\n\\n\\n\\n\\n            Let's talk        \\n\\n\\n\\n        Let's talk    \\n\\n\\n        Let's talk    \\n\\n\\n\\n\\n\\n\\n\\n\\n\\n\\n        Close    \\n\\n        Menu    \\n\\n\\n\\n\\n\\n\\n            Let's talk        \\n\\n\\n\\n        Let's talk    \\n\\n\\n        Let's talk    \\n\\n\\n\\n\\n\\n\\n\\n\\n\\n\\n\\n        Services    \\n\\n\\n\\n\\n\\n\\n\\n\\n\\n        Executive AI Alignment    \\n\\n            Align your leadership team on the AI transformation journey and create a clear, actionable roadmap for success.         \\n\\n\\n\\n\\n\\n\\n\\n\\n\\n\\n\\n        AI Strategy & Governance    \\n\\n            Accelerate AI transformation while minimizing risks through a structured strategy and governance framework.        \\n\\n\\n\\n\\n\\n\\n\\n\\n\\n\\n\\n        Enterprise Data Foundation    \\n\\n            Establish a robust data infrastructure designed to enable AI applications across your organization.        \\n\\n\\n\\n\\n\\n\\n\\n\\n\\n\\n\\n        Agentic AI Systems    \\n\\n            Deploy next-generation AI capabilities with orchestrated agent networks.        \\n\\n\\n\\n\\n\\n\\n\\n\\n\\n\\n\\n        Rapid Proof of Concept    \\n\\n            Quickly build, test, and iterate on a working Proof-of-Conept, leveraging latest GenAI tools and services.        \\n\\n\\n\\n\\n\\n\\n\\n\\n\\n\\n\\n        AI Training & Education    \\n\\n            Empower your teams with hands-on training in custom-made or market-leading AI tools to increase productivity and unlock new opportunities.        \\n\\n\\n\\n\\n\\n\\n\\n\\n\\n\\n\\n        Cloud Cost Optimization    \\n\\n            Reduce cloud expenses, enhance performance, and unlock substantial AWS credits.        \\n\\n\\n\\n\\n\\n\\n\\n\\n\\n\\n\\n        All services    \\n\\n        All services    \\n\\n\\n\\n    Case Studies\\n\\n    About Us\\n\\n    Careers\\n\\n    Articles\\n\\n\\n\\n\\n\\n\\n            Let's talk        \\n\\n\\n\\n        Let's talk    \\n\\n\\n        Let's talk    \\n\\n\\n\\n\\n\\n\\n\\n\\n\\n\\n        0%\\n    \\n\\n\\n\\n\\n\\n\\n\\n\\n\\n\\n\\n        Your Path to Agentic AI Starts Here    \\nNeurons Lab is a leading AI consultancy that delivers transformation services to guide organizations into the new era of AI.\\n\\n\\n\\n \\n\\n\\n\\n \\n\\n\\n\\n\\n\\n\\n\\n\\n\\n\\n\\n\\n\\n\\n\\n\\n\\n\\n\\n\\n\\n\\n\\n\\n\\n\\n\\n\\n\\n\\n\\n\\n\\n\\n\\n\\n\\n\\n\\n\\n\\n\\n\\n\\n\\n\\n\\n\\n\\n\\n\\n\\n\\n\\n\\n\\n\\n\\n\\n\\n        Leading the Way: AI-Powered Success Stories    \\nWe've collaborated with leaders across the Financial Services, Telecoms, Retail, and Technology sectors to guide their organizations into the new era of AI. Delivering AI transformations that position them as frontrunners in their industries and provide measurable outcomes. \\n\\n\\n\\n\\n\\n        See our case studies    \\n\\n        See our case studies    \\n\\n\\n\\n\\n\\n\\n\\n\\n\\n\\n\\n\\n\\n\\n\\n\\n\\n                Financial Services            \\n\\n\\n\\n\\n                    Global Asset Management Firm                \\n\\n                    Global Asset Management Firm Builds an AI-based ETF-like Investing Product to Drive Performance                \\n\\n\\n\\n\\n\\n\\n\\n\\n\\n\\n\\n\\n\\n\\n\\n\\n\\n\\n\\n\\n\\n\\n                Financial Services            \\n\\n\\n\\n\\n                    Visa                \\n\\n                    Visa Empowers Marketing Teams to Streamline Messaging with LLM Technology                \\n\\n\\n\\n\\n\\n\\n\\n\\n\\n\\n\\n\\n\\n\\n\\n\\n\\n\\n\\n\\n\\n                Insurance            \\n\\n\\n\\n\\n                    Global Insurance Company                \\n\\n                    Leading Insurer Automates Medical Insurance Claim Analysis to Detect Fraud with AI                \\n\\n\\n\\n\\n\\n\\n\\n\\n\\n\\n\\n\\n\\n\\n\\n\\n\\n        See our case studies    \\n\\n        See our case studies    \\n\\n\\n\\n\\n\\n\\n\\n\\n\\n\\n\\nDrive Success with Services at Each Stage of the AI Journey\\n\\n\\n\\n\\n \\n\\n\\n\\n\\n\\n\\n\\n\\n\\nThe AI Transformation Program\\nWe deliver AI transformation services to guide enterprises into the new era of AI. Our approach covers the complete AI spectrum, combining leadership alignment with technology integration to deliver measurable outcomes.\\n\\n\\n\\n\\n\\n\\n        Executive AI Workshop    \\n\\nMaster fundamental AI concepts, assess opportunities in your industry, evaluate ROI scenarios, and review the strategic roadmap – all tailored to your unique organizational context. Empower your leadership team to make confident, AI-driven decisions that secure long-term success.\\n\\n\\n\\n\\n\\n\\n        Discover more    \\n\\n        Discover more    \\n\\n\\n\\n\\n        AI Strategy & Governance     \\n\\nEnsure your business thrives in the AI era with a secure, ethical, and compliant AI strategy with a focus on engineering. Get a detailed roadmap for AI adoption and a technology stack that aligns with your industry standards and regulations that maximizes business value and minimizing potential risks.\\n\\n\\n\\n\\n\\n\\n        Discover more    \\n\\n        Discover more    \\n\\n\\n\\n\\n        Enterprise Data Foundation    \\n\\nConvert your organization’s data and infrastructure into an AI-ready ecosystem. Get a robust technical foundation that enables seamless AI integration, real-time processing, and scalable operations.\\n\\n\\n\\n\\n\\n\\n        Discover more    \\n\\n        Discover more    \\n\\n\\n\\n\\n        Agentic AI Systems    \\n\\nRevolutionize your operations through advanced multi-agent systems. Harness the power of AI agents working in harmony to achieve unprecedented levels of automation and intelligence.\\n\\n\\n\\n\\n\\n\\n        Discover more    \\n\\n        Discover more    \\n\\n\\n\\n\\n        Rapid Proof of Concept    \\n\\nGet a production-grade GenAI prototype built on your preferred infrastructure – cloud, on-premise, or hybrid. Quickly validate technical feasibility, test different models, and create a working solution that proves the value of your use case. Qualify for 75-100% funding when choosing AWS as your platform.\\n\\n\\n\\n\\n\\n\\n        Discover more    \\n\\n        Discover more    \\n\\n\\n\\n\\n        AI Training & Education    \\n\\nEnsure your business thrives in the AI era with a secure, ethical, and compliant AI strategy with a focus on engineering. Get a detailed roadmap for AI adoption and a technology stack that aligns with your industry standards and regulations that maximizes business value and minimizing potential risks.\\n\\n\\n\\n\\n\\n\\n        Discover more    \\n\\n        Discover more    \\n\\n\\n\\n\\n\\n\\n\\n\\n\\n            See our services        \\n\\n\\n\\n        See our services    \\n\\n\\n        See our services    \\n\\n\\n\\n\\n\\n\\n\\n\\n\\n\\n        Collaborate with a Trusted AI Partner    \\nNeurons Lab is a global AI consultancy with headquarters in London and Singapore. As an Advanced AWS partner and one of the first companies to be awarded the AWS GenAI competency, we bring AI opportunities to life in a transparent, value-driven way, no matter the stage of your AI journey. \\n\\n\\n\\n\\n\\n        About us    \\n\\n        About us    \\n\\n\\n\\n\\n\\n\\n\\n\\n\\n\\n\\n\\n\\n\\n\\n\\n\\n                                            Read bio                                    \\n\\n\\n\\n            Read more        \\n\\n\\n\\n\\n\\n\\n\\n\\n\\n\\n\\n\\n\\n        Alex Honchar    \\n\\n                Chief Technology Officer & Co-Founder            \\n\\n\\n\\n        LinkedIn    \\n\\n\\n\\n\\n\\n\\n\\n\\n\\n\\n\\n\\n                                            Read bio                                    \\n\\n\\n\\n            Read more        \\n\\n\\n\\n\\n\\n\\n\\n\\n\\n\\n\\n\\n\\n        Igor Sydorenko    \\n\\n                Chief Executive Officer & Co-Founder            \\n\\n\\n\\n        LinkedIn    \\n\\n\\n\\n\\n\\n\\n\\n\\n\\n\\n\\n\\n                                            Read bio                                    \\n\\n\\n\\n            Read more        \\n\\n\\n\\n\\n\\n\\n\\n\\n\\n\\n\\n\\n\\n        Weronika Czerny-Nowakowska    \\n\\n                Chief Operations Officer & Partner            \\n\\n\\n\\n        LinkedIn    \\n\\n\\n\\n\\n\\n\\n\\n\\n        About us    \\n\\n        About us    \\n\\n\\n\\n\\n\\n\\n \\n\\nTrusted by Industry Leaders\\n\\n\\n\\n\\n\\n\\n\\nFinancial Services\\n\\n\\n\\n\\n\\n\\n\\nInsurance\\n\\n\\n\\n\\n\\n\\n\\nRetail\\n\\n\\n\\n\\n\\n\\n\\nInvestment Management\\n\\n\\n\\n\\n\\n\\n\\nFinancial Services\\n\\n\\n\\n\\n\\nInsurance\\n\\n\\n\\n\\n\\nRetail\\n\\n\\n\\n\\n\\nInvestment Management\\n\\n\\n\\n\\n\\nBanking\\n\\n\\n\\n\\n\\nCybersecurity\\n\\n\\n\\n\\n\\nSports & Entertainment\\n\\n\\n\\n\\n\\nApplication Software\\n\\n\\n\\n\\n\\nLogistics\\n\\n\\n\\n\\n\\nBlockchain\\n\\n\\n\\n\\n\\n\\n\\n\\n \\n\\n \\n\\n\\n\\n \\n\\n \\n\\n\\n\\n\\n\\n\\n\\n\\n\\n\\n\\n\\n\\n\\n\\n\\n\\n\\n                Agentic AI            \\n\\n\\n\\n\\n                    Using Multi-Agentic Systems and Knowledge Graphs for a Better Customer Experience                \\n\\n                    Traditional chatbots don't work due to their factual inconsistency and basic conversational skills. Our co-founder and CTO Alex Honchar explains how we use AI agent architecture instead.                \\n\\n\\n\\n\\n\\n        Read more    \\n\\n        Read more    \\n\\n\\n\\n\\n\\n\\n\\n\\n\\n\\n\\n\\n\\n\\n\\n\\n\\n                Telco            \\n\\n\\n\\n\\n                    Transforming Telco: AI in Telecommunications                \\n\\n                    Based on our previous work with telcos and our research, we have identified many impactful AI-led use cases.                \\n\\n\\n\\n\\n\\n        Read more    \\n\\n        Read more    \\n\\n\\n\\n\\n\\n\\n\\n\\n\\n\\n\\n\\n\\n\\n                Generative AI            \\n\\n\\n\\n\\n                    AI Guardrails and Advice: Mitigating LLM Attacks - Part 2                \\n\\n                    We explore advanced attack techniques against LLMs, then explain how to mitigate these risks using external AI guardrails and safety procedures.                \\n\\n\\n\\n\\n\\n        Read more    \\n\\n        Read more    \\n\\n\\n\\n\\n\\n\\n\\n\\n\\n\\n\\n\\n\\n\\n                Generative AI            \\n\\n\\n\\n\\n                    Key Principles for Secure AI: Mitigating LLM Attacks - Part 1                \\n\\n                    We cover some of the most common potential types of attacks on LLMs, explaining how to mitigate the risks with security measures and safety-first principles.                \\n\\n\\n\\n\\n\\n        Read more    \\n\\n        Read more    \\n\\n\\n\\n\\n\\n\\n\\n\\n\\n\\n\\n\\n\\n\\n                Agentic AI            \\n\\n                Telco            \\n\\n\\n\\n\\n                    Building a Telco AI Agent Orchestration Layer with SWARM                \\n\\n                    The recently released SWARM framework offers a simple yet powerful solution for creating an agent orchestration layer. Here is a telco industry example.                \\n\\n\\n\\n\\n\\n        Read more    \\n\\n        Read more    \\n\\n\\n\\n\\n\\n\\n\\n\\n\\n\\n\\n\\n\\n\\n                AWS            \\n\\n                Public Sector            \\n\\n\\n\\n\\n                    Neurons Lab Becomes an AWS Public Sector Partner                \\n\\n                    The AWS Public Sector Program (PSP) recognizes partners serving government, healthcare, education, space, and non-profit customers.                \\n\\n\\n\\n\\n\\n        Read more    \\n\\n        Read more    \\n\\n\\n\\n\\n\\n\\n\\n\\n\\n\\n\\n\\n            See all articles        \\n\\n\\n\\n        See all articles    \\n\\n\\n        See all articles    \\n\\n\\n\\n\\n\\n \\n\\n \\n\\n\\n\\n \\n\\n \\n\\n\\n\\n\\n\\n\\n\\n\\n\\n\\n\\n\\n\\n\\n\\n\\n© 2025 Neurons Lab LTD. Registered in England and Wales, Company Number 12265479\\n\\n\\n\\n\\n\\n\\n\\n\\n\\n         Home    \\n\\n         Home    \\n\\n\\n\\n         Services    \\n\\n         Services    \\n\\n\\n\\n         Case Studies    \\n\\n         Case Studies    \\n\\n\\n\\n         About Us    \\n\\n         About Us    \\n\\n\\n\\n         Careers    \\n\\n         Careers    \\n\\n\\n\\n         Articles    \\n\\n         Articles    \\n\\n\\n\\n         Contact    \\n\\n         Contact    \\n\\n\\n\\n\\n\\n© 2025 Neurons Lab LTD. Registered in England and Wales, Company Number 12265479\\n\\n\\n\\n\\n\\n\\n\\n\\n\\n\\n\\n\\n\\n\\n\\n\\n\\n\\n\\n\\n\\n\\n\\n\\n\\n\\n\\nUnited Kingdom\\nInternational House, 64 Nile Str,\\u2028London, N1 7SR, United Kingdom\\n\\n\\nSingapore\\n16 Raffles Quay, 33-03 Hong Leong Building, 048581, Singapore\\n\\n\\nBusiness Inquiries\\ninfo@neurons-lab.com\\n+442037694201\\n\\n\\n\\n\\n\\n\\nPrivacy policy\\n\\n\\nCookie notice\\n\\n\\n\\n\\n\\n\\n\\n         Home    \\n\\n         Home    \\n\\n\\n\\n         Services    \\n\\n         Services    \\n\\n\\n\\n         Case Studies    \\n\\n         Case Studies    \\n\\n\\n\\n         About Us    \\n\\n         About Us    \\n\\n\\n\\n         Careers    \\n\\n         Careers    \\n\\n\\n\\n         Articles    \\n\\n         Articles    \\n\\n\\n\\n         Contact    \\n\\n         Contact    \\n\\n\\n\\n\\n\\n\\n\\n\\n\\n\\n\\n\\n\\n\\n\\n\\n\\n\\n\\n\\n\\n\\n\\n\\n\\n\\n\\nPrivacy policy\\n\\n\\nCookie notice\\n\\n\\n\\n\\n\\n\\n\\n\\n\\n\\n\\n\\n\\n \\n\\n\")]\n"
     ]
    }
   ],
   "source": [
    "# Get Azure OpenAI configuration from environment variables\n",
    "deployment_name = os.environ[\"AZURE_OPENAI_EMBEDDING_DEPLOY\"]\n",
    "api_version = os.environ[\"AZURE_OPENAI_API_VERSION\"]\n",
    "api_key = os.environ[\"AZURE_OPENAI_API_KEY\"]\n",
    "api_endpoint = os.environ[\"AZURE_OPENAI_ENDPOINT\"]\n",
    "    \n",
    "\n",
    "loader = WebBaseLoader(\"https://neurons-lab.com/\")\n",
    "docs = loader.load()\n",
    "\n",
    "# Creating more distinct chunks with less overlap\n",
    "documents = RecursiveCharacterTextSplitter(\n",
    "    chunk_size=1000,  # Size of each chunk\n",
    "    chunk_overlap=200  # Reduced overlap between chunks\n",
    ").split_documents(docs)\n",
    "\n",
    "# Create embeddings object separately for clarity\n",
    "embeddings = AzureOpenAIEmbeddings(\n",
    "    deployment=deployment_name,\n",
    "    openai_api_key=api_key,\n",
    "    azure_endpoint=api_endpoint,\n",
    "    validate_base_url=True\n",
    ")\n",
    "\n",
    "# Create vector store\n",
    "vector = FAISS.from_documents(documents, embeddings)\n",
    "\n",
    "retriever = vector.as_retriever()"
   ]
  },
  {
   "cell_type": "code",
   "execution_count": 11,
   "metadata": {},
   "outputs": [
    {
     "data": {
      "text/plain": [
       "[Document(id='ff4cbda1-b777-4580-bce1-b3cf0c03bf39', metadata={'source': 'https://neurons-lab.com/', 'title': 'Neurons Lab | Home', 'description': \"We're an AI-exclusive consultancy delivering AI transformation services to guide enterprises into the new era of AI. +100 clients supported.\", 'language': 'en-US'}, page_content='Insurance            \\n\\n\\n\\n\\n                    Global Insurance Company                \\n\\n                    Leading Insurer Automates Medical Insurance Claim Analysis to Detect Fraud with AI                \\n\\n\\n\\n\\n\\n\\n\\n\\n\\n\\n\\n\\n\\n\\n\\n\\n\\n        See our case studies    \\n\\n        See our case studies    \\n\\n\\n\\n\\n\\n\\n\\n\\n\\n\\n\\nDrive Success with Services at Each Stage of the AI Journey\\n\\n\\n\\n\\n \\n\\n\\n\\n\\n\\n\\n\\n\\n\\nThe AI Transformation Program\\nWe deliver AI transformation services to guide enterprises into the new era of AI. Our approach covers the complete AI spectrum, combining leadership alignment with technology integration to deliver measurable outcomes.\\n\\n\\n\\n\\n\\n\\n        Executive AI Workshop    \\n\\nMaster fundamental AI concepts, assess opportunities in your industry, evaluate ROI scenarios, and review the strategic roadmap – all tailored to your unique organizational context. Empower your leadership team to make confident, AI-driven decisions that secure long-term success.'),\n",
       " Document(id='947f6957-b31b-4270-82c6-e9ee90db67db', metadata={'source': 'https://neurons-lab.com/', 'title': 'Neurons Lab | Home', 'description': \"We're an AI-exclusive consultancy delivering AI transformation services to guide enterprises into the new era of AI. +100 clients supported.\", 'language': 'en-US'}, page_content='The AWS Public Sector Program (PSP) recognizes partners serving government, healthcare, education, space, and non-profit customers.                \\n\\n\\n\\n\\n\\n        Read more    \\n\\n        Read more    \\n\\n\\n\\n\\n\\n\\n\\n\\n\\n\\n\\n\\n            See all articles        \\n\\n\\n\\n        See all articles    \\n\\n\\n        See all articles    \\n\\n\\n\\n\\n\\n \\n\\n \\n\\n\\n\\n \\n\\n \\n\\n\\n\\n\\n\\n\\n\\n\\n\\n\\n\\n\\n\\n\\n\\n\\n© 2025 Neurons Lab LTD. Registered in England and Wales, Company Number 12265479\\n\\n\\n\\n\\n\\n\\n\\n\\n\\n         Home    \\n\\n         Home    \\n\\n\\n\\n         Services    \\n\\n         Services    \\n\\n\\n\\n         Case Studies    \\n\\n         Case Studies    \\n\\n\\n\\n         About Us    \\n\\n         About Us    \\n\\n\\n\\n         Careers    \\n\\n         Careers    \\n\\n\\n\\n         Articles    \\n\\n         Articles    \\n\\n\\n\\n         Contact    \\n\\n         Contact    \\n\\n\\n\\n\\n\\n© 2025 Neurons Lab LTD. Registered in England and Wales, Company Number 12265479\\n\\n\\n\\n\\n\\n\\n\\n\\n\\n\\n\\n\\n\\n\\n\\n\\n\\n\\n\\n\\n\\n\\n\\n\\n\\n\\n\\nUnited Kingdom\\nInternational House, 64 Nile Str,\\u2028London, N1 7SR, United Kingdom'),\n",
       " Document(id='4e292d28-5a35-46cd-9601-a654c7126de7', metadata={'source': 'https://neurons-lab.com/', 'title': 'Neurons Lab | Home', 'description': \"We're an AI-exclusive consultancy delivering AI transformation services to guide enterprises into the new era of AI. +100 clients supported.\", 'language': 'en-US'}, page_content=\"Investment Management\\n\\n\\n\\n\\n\\nBanking\\n\\n\\n\\n\\n\\nCybersecurity\\n\\n\\n\\n\\n\\nSports & Entertainment\\n\\n\\n\\n\\n\\nApplication Software\\n\\n\\n\\n\\n\\nLogistics\\n\\n\\n\\n\\n\\nBlockchain\\n\\n\\n\\n\\n\\n\\n\\n\\n \\n\\n \\n\\n\\n\\n \\n\\n \\n\\n\\n\\n\\n\\n\\n\\n\\n\\n\\n\\n\\n\\n\\n\\n\\n\\n\\n                Agentic AI            \\n\\n\\n\\n\\n                    Using Multi-Agentic Systems and Knowledge Graphs for a Better Customer Experience                \\n\\n                    Traditional chatbots don't work due to their factual inconsistency and basic conversational skills. Our co-founder and CTO Alex Honchar explains how we use AI agent architecture instead.                \\n\\n\\n\\n\\n\\n        Read more    \\n\\n        Read more    \\n\\n\\n\\n\\n\\n\\n\\n\\n\\n\\n\\n\\n\\n\\n\\n\\n\\n                Telco            \\n\\n\\n\\n\\n                    Transforming Telco: AI in Telecommunications                \\n\\n                    Based on our previous work with telcos and our research, we have identified many impactful AI-led use cases.                \\n\\n\\n\\n\\n\\n        Read more    \\n\\n        Read more\"),\n",
       " Document(id='9dc429f1-e671-4805-990e-836e8c669d5b', metadata={'source': 'https://neurons-lab.com/', 'title': 'Neurons Lab | Home', 'description': \"We're an AI-exclusive consultancy delivering AI transformation services to guide enterprises into the new era of AI. +100 clients supported.\", 'language': 'en-US'}, page_content=\"Sports & Entertainment\\n\\n\\n\\n\\n\\nApplication Software\\n\\n\\n\\n\\n\\nLogistics\\n\\n\\n\\n\\n\\nBlockchain\\n\\n\\n\\n\\n\\n\\n\\n\\n \\n\\n \\n\\n\\n\\n \\n\\n \\n\\n\\n\\n\\n\\n\\n\\n\\n\\n\\n\\n\\n\\n\\n\\n\\n\\n\\n                Agentic AI            \\n\\n\\n\\n\\n                    Using Multi-Agentic Systems and Knowledge Graphs for a Better Customer Experience                \\n\\n                    Traditional chatbots don't work due to their factual inconsistency and basic conversational skills. Our co-founder and CTO Alex Honchar explains how we use AI agent architecture instead.                \\n\\n\\n\\n\\n\\n        Read more    \\n\\n        Read more    \\n\\n\\n\\n\\n\\n\\n\\n\\n\\n\\n\\n\\n\\n\\n\\n\\n\\n                Telco            \\n\\n\\n\\n\\n                    Transforming Telco: AI in Telecommunications                \\n\\n                    Based on our previous work with telcos and our research, we have identified many impactful AI-led use cases.                \\n\\n\\n\\n\\n\\n        Read more    \\n\\n        Read more    \\n\\n\\n\\n\\n\\n\\n\\n\\n\\n\\n\\n\\n\\n\\n                Generative AI\")]"
      ]
     },
     "execution_count": 11,
     "metadata": {},
     "output_type": "execute_result"
    }
   ],
   "source": [
    "results = retriever.invoke(\"what are the projects in healthcare?\")\n",
    "results"
   ]
  },
  {
   "cell_type": "markdown",
   "metadata": {},
   "source": [
    "### Adding short-term memory"
   ]
  },
  {
   "cell_type": "code",
   "execution_count": 14,
   "metadata": {},
   "outputs": [],
   "source": [
    "from langchain_community.chat_message_histories import ChatMessageHistory\n",
    "from langchain_core.runnables.history import RunnableWithMessageHistory\n",
    "from langchain.agents import AgentExecutor\n",
    "from langchain.agents import create_openai_functions_agent\n",
    "from langchain.tools.retriever import create_retriever_tool\n",
    "from langchain_openai import ChatOpenAI\n",
    "from langchain import hub"
   ]
  },
  {
   "cell_type": "code",
   "execution_count": 15,
   "metadata": {},
   "outputs": [
    {
     "data": {
      "text/plain": [
       "[SystemMessagePromptTemplate(prompt=PromptTemplate(input_variables=[], input_types={}, partial_variables={}, template='You are a helpful assistant'), additional_kwargs={}),\n",
       " MessagesPlaceholder(variable_name='chat_history', optional=True),\n",
       " HumanMessagePromptTemplate(prompt=PromptTemplate(input_variables=['input'], input_types={}, partial_variables={}, template='{input}'), additional_kwargs={}),\n",
       " MessagesPlaceholder(variable_name='agent_scratchpad')]"
      ]
     },
     "execution_count": 15,
     "metadata": {},
     "output_type": "execute_result"
    }
   ],
   "source": [
    "# Get the prompt to use - you can modify this!\n",
    "prompt = hub.pull(\"hwchase17/openai-functions-agent\")\n",
    "prompt.messages"
   ]
  },
  {
   "cell_type": "code",
   "execution_count": 16,
   "metadata": {},
   "outputs": [],
   "source": [
    "retriever_tool = create_retriever_tool(\n",
    "    retriever,\n",
    "    \"langsmith_search\",\n",
    "    \"Search for information about LangSmith. For any questions about LangSmith, you must use this tool!\",\n",
    ")"
   ]
  },
  {
   "cell_type": "code",
   "execution_count": 20,
   "metadata": {},
   "outputs": [],
   "source": [
    "from langchain_community.chat_models import AzureChatOpenAI\n",
    "\n",
    "# Get Azure OpenAI configuration from environment variables\n",
    "deployment_name = os.environ[\"AZURE_OPENAI_DEPLOYMENT_NAME\"]\n",
    "api_version = os.environ[\"AZURE_OPENAI_API_VERSION\"]\n",
    "api_key = os.environ[\"AZURE_OPENAI_API_KEY\"]\n",
    "\n",
    "azure_llm = AzureChatOpenAI(\n",
    "    deployment_name=deployment_name,\n",
    "    api_version=api_version,\n",
    "    api_key=api_key,\n",
    "    temperature=0\n",
    ")\n",
    "\n",
    "tools = [retriever_tool]\n",
    "agent = create_openai_functions_agent(\n",
    "    azure_llm, tools, prompt)\n",
    "agent_executor = AgentExecutor(agent=agent, tools=tools, verbose=True)\n",
    "\n",
    "message_history = ChatMessageHistory()\n",
    "agent_with_chat_history = RunnableWithMessageHistory(\n",
    "    agent_executor,\n",
    "    lambda session_id: message_history,\n",
    "    input_messages_key=\"input\",\n",
    "    history_messages_key=\"chat_history\",\n",
    ")"
   ]
  },
  {
   "cell_type": "code",
   "execution_count": 21,
   "metadata": {},
   "outputs": [
    {
     "name": "stdout",
     "output_type": "stream",
     "text": [
      "\n",
      "\n",
      "\u001b[1m> Entering new AgentExecutor chain...\u001b[0m\n",
      "\u001b[32;1m\u001b[1;3mHi Bob! How can I assist you today?\u001b[0m\n",
      "\n",
      "\u001b[1m> Finished chain.\u001b[0m\n"
     ]
    },
    {
     "data": {
      "text/plain": [
       "{'input': \"hi! I'm bob\",\n",
       " 'chat_history': [],\n",
       " 'output': 'Hi Bob! How can I assist you today?'}"
      ]
     },
     "execution_count": 21,
     "metadata": {},
     "output_type": "execute_result"
    }
   ],
   "source": [
    "agent_with_chat_history.invoke(\n",
    "    {\"input\": \"hi! I'm bob\"},\n",
    "    # This is needed because in most real world scenarios, a session id is needed\n",
    "    # It isn't really used here because we are using a simple in memory ChatMessageHistory\n",
    "    config={\"configurable\": {\"session_id\": \"<foo>\"}},\n",
    ")"
   ]
  },
  {
   "cell_type": "code",
   "execution_count": 22,
   "metadata": {},
   "outputs": [
    {
     "name": "stdout",
     "output_type": "stream",
     "text": [
      "\n",
      "\n",
      "\u001b[1m> Entering new AgentExecutor chain...\u001b[0m\n",
      "\u001b[32;1m\u001b[1;3mYour name is Bob! 😊\u001b[0m\n",
      "\n",
      "\u001b[1m> Finished chain.\u001b[0m\n"
     ]
    },
    {
     "data": {
      "text/plain": [
       "{'input': \"what's my name?\",\n",
       " 'chat_history': [HumanMessage(content=\"hi! I'm bob\", additional_kwargs={}, response_metadata={}),\n",
       "  AIMessage(content='Hi Bob! How can I assist you today?', additional_kwargs={}, response_metadata={})],\n",
       " 'output': 'Your name is Bob! 😊'}"
      ]
     },
     "execution_count": 22,
     "metadata": {},
     "output_type": "execute_result"
    }
   ],
   "source": [
    "agent_with_chat_history.invoke(\n",
    "    {\"input\": \"what's my name?\"},\n",
    "    # This is needed because in most real world scenarios, a session id is needed\n",
    "    # It isn't really used here because we are using a simple in memory ChatMessageHistory\n",
    "    config={\"configurable\": {\"session_id\": \"<foo>\"}},\n",
    ")"
   ]
  }
 ],
 "metadata": {
  "kernelspec": {
   "display_name": ".venv",
   "language": "python",
   "name": "python3"
  },
  "language_info": {
   "codemirror_mode": {
    "name": "ipython",
    "version": 3
   },
   "file_extension": ".py",
   "mimetype": "text/x-python",
   "name": "python",
   "nbconvert_exporter": "python",
   "pygments_lexer": "ipython3",
   "version": "3.11.9"
  }
 },
 "nbformat": 4,
 "nbformat_minor": 2
}
